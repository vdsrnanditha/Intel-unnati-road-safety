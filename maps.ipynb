{
  "nbformat": 4,
  "nbformat_minor": 0,
  "metadata": {
    "colab": {
      "provenance": [],
      "gpuType": "T4"
    },
    "kernelspec": {
      "name": "python3",
      "display_name": "Python 3"
    },
    "language_info": {
      "name": "python"
    },
    "accelerator": "GPU"
  },
  "cells": [
    {
      "cell_type": "code",
      "execution_count": null,
      "metadata": {
        "id": "ZyOG6rszMasa"
      },
      "outputs": [],
      "source": [
        "%matplotlib inline\n",
        "import matplotlib.pyplot as plt\n",
        "import pandas as pd\n",
        "import folium"
      ]
    },
    {
      "cell_type": "code",
      "source": [
        "data = pd.read_excel(\"/content/unnati_phase1_data.xlsx\")\n",
        "data.head()"
      ],
      "metadata": {
        "id": "6DeA5pFBNg55"
      },
      "execution_count": null,
      "outputs": []
    },
    {
      "cell_type": "code",
      "source": [
        "lat = data['Lat'].tolist()\n",
        "lon = data['Long'].tolist()"
      ],
      "metadata": {
        "id": "Mvx8KcknO-W7"
      },
      "execution_count": null,
      "outputs": []
    },
    {
      "cell_type": "code",
      "source": [
        "data = data.drop(index=11201)\n",
        "data['Lat'].unique()"
      ],
      "metadata": {
        "id": "v5qPyivAoBvw"
      },
      "execution_count": null,
      "outputs": []
    },
    {
      "cell_type": "code",
      "source": [
        "data['Lat'] = data['Lat'].astype(float)\n",
        "data['Long'] = data['Long'].astype(float)\n",
        "data['Speed'] = data['Speed'].astype(int)"
      ],
      "metadata": {
        "id": "yud7T_W4PK6J"
      },
      "execution_count": null,
      "outputs": []
    },
    {
      "cell_type": "code",
      "source": [
        "data.reset_index(drop=True, inplace=True)\n",
        "data.index[11201:]"
      ],
      "metadata": {
        "id": "8mGPlP57PenO"
      },
      "execution_count": null,
      "outputs": []
    },
    {
      "cell_type": "code",
      "source": [
        "# folium, slower\n",
        "points = []\n",
        "for i in range(data.shape[0]):\n",
        "  li = [0.0]*2\n",
        "  li[0] = data.Lat[i]\n",
        "  li[1] = data.Long[i]\n",
        "  points.append(li)"
      ],
      "metadata": {
        "id": "j3mEtSawvGbw"
      },
      "execution_count": null,
      "outputs": []
    },
    {
      "cell_type": "code",
      "source": [
        "map = folium.Map(location=[12.887403, 80.083412], zoom_start=7)\n",
        "for p in points:\n",
        "  folium.Marker(p, popup='Point').add_to(map)"
      ],
      "metadata": {
        "id": "4Re2tnVIvZSK"
      },
      "execution_count": null,
      "outputs": []
    },
    {
      "cell_type": "code",
      "source": [
        "map"
      ],
      "metadata": {
        "id": "HMEL4IXbxWo7"
      },
      "execution_count": null,
      "outputs": []
    },
    {
      "cell_type": "code",
      "source": [
        "# plotly, faster\n",
        "import plotly.express as px"
      ],
      "metadata": {
        "id": "0gOLqlmHyWpS"
      },
      "execution_count": null,
      "outputs": []
    },
    {
      "cell_type": "code",
      "source": [
        "from operator import index\n",
        "fig = px.scatter_geo(data, projection='miller', lat = 'Lat', lon = 'Long', color = 'Vehicle')\n",
        "fig.update_layout(title = 'Where each car went', title_x = 0.5)"
      ],
      "metadata": {
        "id": "oL1oG8VryY6t"
      },
      "execution_count": null,
      "outputs": []
    },
    {
      "cell_type": "markdown",
      "source": [
        "<h1>Final Thoughts</h1>\n",
        "After trying out multiple python libraries for visualization and maps, it is understood that this takes a lot of time compared to GIS tools like Kepler and visualization tools like Power BI. For the analysis task in hand, those two alternatives seem to be more efficient."
      ],
      "metadata": {
        "id": "ah4HnwLJv8LI"
      }
    }
  ]
}